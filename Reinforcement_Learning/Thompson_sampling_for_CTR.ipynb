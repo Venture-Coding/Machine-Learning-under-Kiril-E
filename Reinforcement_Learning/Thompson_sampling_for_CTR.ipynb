{
  "nbformat": 4,
  "nbformat_minor": 0,
  "metadata": {
    "colab": {
      "name": "Thompson_sampling_for_CTR.ipynb",
      "provenance": [],
      "collapsed_sections": []
    },
    "kernelspec": {
      "name": "python3",
      "display_name": "Python 3"
    }
  },
  "cells": [
    {
      "cell_type": "markdown",
      "metadata": {
        "id": "vPKTIRAtx232"
      },
      "source": [
        "# Thompson Sampling"
      ]
    },
    {
      "cell_type": "markdown",
      "metadata": {
        "id": "PqPv9zpAx-EE"
      },
      "source": [
        "## Importing the libraries"
      ]
    },
    {
      "cell_type": "code",
      "metadata": {
        "id": "lozuE-Fhx_QB"
      },
      "source": [
        "import numpy as np\n",
        "import matplotlib.pyplot as plt\n",
        "import pandas as pd"
      ],
      "execution_count": 9,
      "outputs": []
    },
    {
      "cell_type": "markdown",
      "metadata": {
        "id": "iqpVk5HhyGmO"
      },
      "source": [
        "## Importing the dataset"
      ]
    },
    {
      "cell_type": "code",
      "metadata": {
        "id": "kY4zzW4hyNfA"
      },
      "source": [
        "dataset = pd.read_csv('Ads_CTR_Optimisation.csv')"
      ],
      "execution_count": 10,
      "outputs": []
    },
    {
      "cell_type": "code",
      "metadata": {
        "colab": {
          "base_uri": "https://localhost:8080/",
          "height": 204
        },
        "id": "gQX9uYt6TspF",
        "outputId": "13ed165a-1f87-4a44-8f49-d4c39fa0ff51"
      },
      "source": [
        "dataset.head()"
      ],
      "execution_count": 11,
      "outputs": [
        {
          "output_type": "execute_result",
          "data": {
            "text/html": [
              "<div>\n",
              "<style scoped>\n",
              "    .dataframe tbody tr th:only-of-type {\n",
              "        vertical-align: middle;\n",
              "    }\n",
              "\n",
              "    .dataframe tbody tr th {\n",
              "        vertical-align: top;\n",
              "    }\n",
              "\n",
              "    .dataframe thead th {\n",
              "        text-align: right;\n",
              "    }\n",
              "</style>\n",
              "<table border=\"1\" class=\"dataframe\">\n",
              "  <thead>\n",
              "    <tr style=\"text-align: right;\">\n",
              "      <th></th>\n",
              "      <th>Ad 1</th>\n",
              "      <th>Ad 2</th>\n",
              "      <th>Ad 3</th>\n",
              "      <th>Ad 4</th>\n",
              "      <th>Ad 5</th>\n",
              "      <th>Ad 6</th>\n",
              "      <th>Ad 7</th>\n",
              "      <th>Ad 8</th>\n",
              "      <th>Ad 9</th>\n",
              "      <th>Ad 10</th>\n",
              "    </tr>\n",
              "  </thead>\n",
              "  <tbody>\n",
              "    <tr>\n",
              "      <th>0</th>\n",
              "      <td>1</td>\n",
              "      <td>0</td>\n",
              "      <td>0</td>\n",
              "      <td>0</td>\n",
              "      <td>1</td>\n",
              "      <td>0</td>\n",
              "      <td>0</td>\n",
              "      <td>0</td>\n",
              "      <td>1</td>\n",
              "      <td>0</td>\n",
              "    </tr>\n",
              "    <tr>\n",
              "      <th>1</th>\n",
              "      <td>0</td>\n",
              "      <td>0</td>\n",
              "      <td>0</td>\n",
              "      <td>0</td>\n",
              "      <td>0</td>\n",
              "      <td>0</td>\n",
              "      <td>0</td>\n",
              "      <td>0</td>\n",
              "      <td>1</td>\n",
              "      <td>0</td>\n",
              "    </tr>\n",
              "    <tr>\n",
              "      <th>2</th>\n",
              "      <td>0</td>\n",
              "      <td>0</td>\n",
              "      <td>0</td>\n",
              "      <td>0</td>\n",
              "      <td>0</td>\n",
              "      <td>0</td>\n",
              "      <td>0</td>\n",
              "      <td>0</td>\n",
              "      <td>0</td>\n",
              "      <td>0</td>\n",
              "    </tr>\n",
              "    <tr>\n",
              "      <th>3</th>\n",
              "      <td>0</td>\n",
              "      <td>1</td>\n",
              "      <td>0</td>\n",
              "      <td>0</td>\n",
              "      <td>0</td>\n",
              "      <td>0</td>\n",
              "      <td>0</td>\n",
              "      <td>1</td>\n",
              "      <td>0</td>\n",
              "      <td>0</td>\n",
              "    </tr>\n",
              "    <tr>\n",
              "      <th>4</th>\n",
              "      <td>0</td>\n",
              "      <td>0</td>\n",
              "      <td>0</td>\n",
              "      <td>0</td>\n",
              "      <td>0</td>\n",
              "      <td>0</td>\n",
              "      <td>0</td>\n",
              "      <td>0</td>\n",
              "      <td>0</td>\n",
              "      <td>0</td>\n",
              "    </tr>\n",
              "  </tbody>\n",
              "</table>\n",
              "</div>"
            ],
            "text/plain": [
              "   Ad 1  Ad 2  Ad 3  Ad 4  Ad 5  Ad 6  Ad 7  Ad 8  Ad 9  Ad 10\n",
              "0     1     0     0     0     1     0     0     0     1      0\n",
              "1     0     0     0     0     0     0     0     0     1      0\n",
              "2     0     0     0     0     0     0     0     0     0      0\n",
              "3     0     1     0     0     0     0     0     1     0      0\n",
              "4     0     0     0     0     0     0     0     0     0      0"
            ]
          },
          "metadata": {},
          "execution_count": 11
        }
      ]
    },
    {
      "cell_type": "markdown",
      "metadata": {
        "id": "CLMSUD_BX8Dx"
      },
      "source": [
        "A simulated dataset that represents 10 ads being run sequentially presented to 10k users. Problem statement is to identify the best ad within as less rounds as possible."
      ]
    },
    {
      "cell_type": "markdown",
      "metadata": {
        "id": "WqoXeWOYyQhB"
      },
      "source": [
        "## Implementing Thompson Sampling"
      ]
    },
    {
      "cell_type": "markdown",
      "metadata": {
        "id": "a4zBrHzWUvHU"
      },
      "source": [
        "We have assumed a Beta distribution for the sampling.  \n",
        "\n",
        "![Screenshot 2021-11-17 at 3.29.07 PM.png](data:image/png;base64,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)"
      ]
    },
    {
      "cell_type": "code",
      "metadata": {
        "id": "PCiHv51pyUII"
      },
      "source": [
        "import random #instead of the math library in UCB\n",
        "N = 10000\n",
        "d = 10        #each ad still has same conversion rate\n",
        "ads_selected = []\n",
        "numbers_of_rewards_1 = [0] * d   #thomson uses 2 variables, vs the UCB using only for 1s\n",
        "numbers_of_rewards_0 = [0] * d\n",
        "total_reward = 0\n",
        "for n in range(0, N):\n",
        "  ad = 0\n",
        "  max_random = 0\n",
        "  for i in range(0, d):\n",
        "    random_beta = random.betavariate(numbers_of_rewards_1[i] + 1, numbers_of_rewards_0[i] + 1) #theta formula\n",
        "    if (random_beta > max_random):\n",
        "      max_random = random_beta\n",
        "      ad = i\n",
        "  ads_selected.append(ad)\n",
        "  reward = dataset.values[n, ad]\n",
        "  if reward == 1:\n",
        "    numbers_of_rewards_1[ad] = numbers_of_rewards_1[ad] + 1\n",
        "  else:\n",
        "    numbers_of_rewards_0[ad] = numbers_of_rewards_0[ad] + 1\n",
        "  total_reward = total_reward + reward"
      ],
      "execution_count": 12,
      "outputs": []
    },
    {
      "cell_type": "markdown",
      "metadata": {
        "id": "tweWsgTHyXhv"
      },
      "source": [
        "## Visualising the results - Histogram"
      ]
    },
    {
      "cell_type": "code",
      "metadata": {
        "id": "k8DJmN06yak3",
        "colab": {
          "base_uri": "https://localhost:8080/",
          "height": 295
        },
        "outputId": "77e46aef-33a1-44b2-f414-522af0f6fd73"
      },
      "source": [
        "plt.hist(ads_selected)\n",
        "plt.title('Histogram of ads selections')\n",
        "plt.xlabel('Ads')\n",
        "plt.ylabel('Number of times each ad was selected')\n",
        "plt.show()"
      ],
      "execution_count": 13,
      "outputs": [
        {
          "output_type": "display_data",
          "data": {
            "image/png": "[encoded data removed]",
            "text/plain": [
              "<Figure size 432x288 with 1 Axes>"
            ]
          },
          "metadata": {
            "needs_background": "light"
          }
        }
      ]
    },
    {
      "cell_type": "code",
      "metadata": {
        "colab": {
          "base_uri": "https://localhost:8080/",
          "height": 295
        },
        "id": "7iyb4-a0UTsq",
        "outputId": "80a649cd-c061-4e18-ff19-e7c168ad93bd"
      },
      "source": [
        "N = 5000\n",
        "d = 10        #each ad still has same conversion rate\n",
        "ads_selected = []\n",
        "numbers_of_rewards_1 = [0] * d\n",
        "numbers_of_rewards_0 = [0] * d\n",
        "total_reward = 0\n",
        "for n in range(0, N):\n",
        "  ad = 0\n",
        "  max_random = 0\n",
        "  for i in range(0, d):\n",
        "    random_beta = random.betavariate(numbers_of_rewards_1[i] + 1, numbers_of_rewards_0[i] + 1)\n",
        "    if (random_beta > max_random):\n",
        "      max_random = random_beta\n",
        "      ad = i\n",
        "  ads_selected.append(ad)\n",
        "  reward = dataset.values[n, ad]\n",
        "  if reward == 1:\n",
        "    numbers_of_rewards_1[ad] = numbers_of_rewards_1[ad] + 1\n",
        "  else:\n",
        "    numbers_of_rewards_0[ad] = numbers_of_rewards_0[ad] + 1\n",
        "  total_reward = total_reward + reward\n",
        "\n",
        "plt.hist(ads_selected)\n",
        "plt.title('Histogram of ads selections')\n",
        "plt.xlabel('Ads')\n",
        "plt.ylabel('Number of times each ad was selected')\n",
        "plt.show()"
      ],
      "execution_count": 14,
      "outputs": [
        {
          "output_type": "display_data",
          "data": {
            "image/png": "[encoded data removed]",
            "text/plain": [
              "<Figure size 432x288 with 1 Axes>"
            ]
          },
          "metadata": {
            "needs_background": "light"
          }
        }
      ]
    },
    {
      "cell_type": "code",
      "metadata": {
        "colab": {
          "base_uri": "https://localhost:8080/",
          "height": 295
        },
        "id": "ggCX7iDHUeY7",
        "outputId": "44fe16f2-c814-468d-abcf-8d97b8622816"
      },
      "source": [
        "N = 1000\n",
        "d = 10        #each ad still has same conversion rate\n",
        "ads_selected = []\n",
        "numbers_of_rewards_1 = [0] * d\n",
        "numbers_of_rewards_0 = [0] * d\n",
        "total_reward = 0\n",
        "for n in range(0, N):\n",
        "  ad = 0\n",
        "  max_random = 0\n",
        "  for i in range(0, d):\n",
        "    random_beta = random.betavariate(numbers_of_rewards_1[i] + 1, numbers_of_rewards_0[i] + 1)\n",
        "    if (random_beta > max_random):\n",
        "      max_random = random_beta\n",
        "      ad = i\n",
        "  ads_selected.append(ad)\n",
        "  reward = dataset.values[n, ad]\n",
        "  if reward == 1:\n",
        "    numbers_of_rewards_1[ad] = numbers_of_rewards_1[ad] + 1\n",
        "  else:\n",
        "    numbers_of_rewards_0[ad] = numbers_of_rewards_0[ad] + 1\n",
        "  total_reward = total_reward + reward\n",
        "\n",
        "plt.hist(ads_selected)\n",
        "plt.title('Histogram of ads selections')\n",
        "plt.xlabel('Ads')\n",
        "plt.ylabel('Number of times each ad was selected')\n",
        "plt.show()"
      ],
      "execution_count": 15,
      "outputs": [
        {
          "output_type": "display_data",
          "data": {
            "image/png": "[encoded data removed]",
            "text/plain": [
              "<Figure size 432x288 with 1 Axes>"
            ]
          },
          "metadata": {
            "needs_background": "light"
          }
        }
      ]
    },
    {
      "cell_type": "code",
      "metadata": {
        "colab": {
          "base_uri": "https://localhost:8080/",
          "height": 295
        },
        "id": "SpqonDcpXJlz",
        "outputId": "9e31e436-9bd1-4f17-c011-4d265b165eef"
      },
      "source": [
        "N = 700\n",
        "d = 10        #each ad still has same conversion rate\n",
        "ads_selected = []\n",
        "numbers_of_rewards_1 = [0] * d\n",
        "numbers_of_rewards_0 = [0] * d\n",
        "total_reward = 0\n",
        "for n in range(0, N):\n",
        "  ad = 0\n",
        "  max_random = 0\n",
        "  for i in range(0, d):\n",
        "    random_beta = random.betavariate(numbers_of_rewards_1[i] + 1, numbers_of_rewards_0[i] + 1)\n",
        "    if (random_beta > max_random):\n",
        "      max_random = random_beta\n",
        "      ad = i\n",
        "  ads_selected.append(ad)\n",
        "  reward = dataset.values[n, ad]\n",
        "  if reward == 1:\n",
        "    numbers_of_rewards_1[ad] = numbers_of_rewards_1[ad] + 1\n",
        "  else:\n",
        "    numbers_of_rewards_0[ad] = numbers_of_rewards_0[ad] + 1\n",
        "  total_reward = total_reward + reward\n",
        "\n",
        "plt.hist(ads_selected)\n",
        "plt.title('Histogram of ads selections')\n",
        "plt.xlabel('Ads')\n",
        "plt.ylabel('Number of times each ad was selected')\n",
        "plt.show()"
      ],
      "execution_count": 16,
      "outputs": [
        {
          "output_type": "display_data",
          "data": {
            "image/png": "[encoded data removed]",
            "text/plain": [
              "<Figure size 432x288 with 1 Axes>"
            ]
          },
          "metadata": {
            "needs_background": "light"
          }
        }
      ]
    },
    {
      "cell_type": "code",
      "metadata": {
        "colab": {
          "base_uri": "https://localhost:8080/",
          "height": 295
        },
        "id": "Wrfc5m0HUiNM",
        "outputId": "47d040d0-6d91-48c9-cce3-7e61ed5c3861"
      },
      "source": [
        "N = 500\n",
        "d = 10        #each ad still has same conversion rate\n",
        "ads_selected = []\n",
        "numbers_of_rewards_1 = [0] * d\n",
        "numbers_of_rewards_0 = [0] * d\n",
        "total_reward = 0\n",
        "for n in range(0, N):\n",
        "  ad = 0\n",
        "  max_random = 0\n",
        "  for i in range(0, d):\n",
        "    random_beta = random.betavariate(numbers_of_rewards_1[i] + 1, numbers_of_rewards_0[i] + 1)\n",
        "    if (random_beta > max_random):\n",
        "      max_random = random_beta\n",
        "      ad = i\n",
        "  ads_selected.append(ad)\n",
        "  reward = dataset.values[n, ad]\n",
        "  if reward == 1:\n",
        "    numbers_of_rewards_1[ad] = numbers_of_rewards_1[ad] + 1\n",
        "  else:\n",
        "    numbers_of_rewards_0[ad] = numbers_of_rewards_0[ad] + 1\n",
        "  total_reward = total_reward + reward\n",
        "\n",
        "plt.hist(ads_selected)\n",
        "plt.title('Histogram of ads selections')\n",
        "plt.xlabel('Ads')\n",
        "plt.ylabel('Number of times each ad was selected')\n",
        "plt.show()"
      ],
      "execution_count": 17,
      "outputs": [
        {
          "output_type": "display_data",
          "data": {
            "image/png": "[encoded data removed]",
            "text/plain": [
              "<Figure size 432x288 with 1 Axes>"
            ]
          },
          "metadata": {
            "needs_background": "light"
          }
        }
      ]
    },
    {
      "cell_type": "markdown",
      "metadata": {
        "id": "bLsa39I9XZF0"
      },
      "source": [
        "Incredibly accurate at just 500 rounds out of 10k.   \n",
        "That saves a lot of cost to the organisation intending to run an experiment and select an ad."
      ]
    },
    {
      "cell_type": "code",
      "metadata": {
        "colab": {
          "base_uri": "https://localhost:8080/",
          "height": 295
        },
        "id": "zgw3okMsXMnV",
        "outputId": "5db82c84-b4ca-4d4b-fe36-c5eaaf61f119"
      },
      "source": [
        "N = 300\n",
        "d = 10        #each ad still has same conversion rate\n",
        "ads_selected = []\n",
        "numbers_of_rewards_1 = [0] * d\n",
        "numbers_of_rewards_0 = [0] * d\n",
        "total_reward = 0\n",
        "for n in range(0, N):\n",
        "  ad = 0\n",
        "  max_random = 0\n",
        "  for i in range(0, d):\n",
        "    random_beta = random.betavariate(numbers_of_rewards_1[i] + 1, numbers_of_rewards_0[i] + 1)\n",
        "    if (random_beta > max_random):\n",
        "      max_random = random_beta\n",
        "      ad = i\n",
        "  ads_selected.append(ad)\n",
        "  reward = dataset.values[n, ad]\n",
        "  if reward == 1:\n",
        "    numbers_of_rewards_1[ad] = numbers_of_rewards_1[ad] + 1\n",
        "  else:\n",
        "    numbers_of_rewards_0[ad] = numbers_of_rewards_0[ad] + 1\n",
        "  total_reward = total_reward + reward\n",
        "\n",
        "plt.hist(ads_selected)\n",
        "plt.title('Histogram of ads selections')\n",
        "plt.xlabel('Ads')\n",
        "plt.ylabel('Number of times each ad was selected')\n",
        "plt.show()"
      ],
      "execution_count": 18,
      "outputs": [
        {
          "output_type": "display_data",
          "data": {
            "image/png": "[encoded data removed]",
            "text/plain": [
              "<Figure size 432x288 with 1 Axes>"
            ]
          },
          "metadata": {
            "needs_background": "light"
          }
        }
      ]
    },
    {
      "cell_type": "markdown",
      "metadata": {
        "id": "NCviSb3EUj60"
      },
      "source": [
        "Even in as little as 300 rounds, we have already shortlisted 2 best ads, of which one, eventually turns out to be the best one.  \n",
        "Thus, Thomson Sampling is amazingly accurate, faster and more optimal compared to the UCB and has great potential of application. "
      ]
    },
    {
      "cell_type": "code",
      "metadata": {
        "id": "MVY6OsTHXz6z"
      },
      "source": [
        ""
      ],
      "execution_count": null,
      "outputs": []
    }
  ]
}