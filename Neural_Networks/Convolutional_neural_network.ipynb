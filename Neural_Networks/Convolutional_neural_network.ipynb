{
  "nbformat": 4,
  "nbformat_minor": 0,
  "metadata": {
    "colab": {
      "name": "Convolutional_neural_network.ipynb",
      "provenance": [],
      "collapsed_sections": [],
      "toc_visible": true
    },
    "kernelspec": {
      "display_name": "Python 3",
      "language": "python",
      "name": "python3"
    },
    "language_info": {
      "codemirror_mode": {
        "name": "ipython",
        "version": 3
      },
      "file_extension": ".py",
      "mimetype": "text/x-python",
      "name": "python",
      "nbconvert_exporter": "python",
      "pygments_lexer": "ipython3",
      "version": "3.8.8"
    }
  },
  "cells": [
    {
      "cell_type": "markdown",
      "metadata": {
        "id": "3DR-eO17geWu"
      },
      "source": [
        "# Convolutional Neural Network"
      ]
    },
    {
      "cell_type": "markdown",
      "metadata": {
        "id": "EMefrVPCg-60"
      },
      "source": [
        "### Importing the libraries"
      ]
    },
    {
      "cell_type": "code",
      "metadata": {
        "id": "sCV30xyVhFbE"
      },
      "source": [
        "import tensorflow as tf\n",
        "from keras.preprocessing.image import ImageDataGenerator"
      ],
      "execution_count": null,
      "outputs": []
    },
    {
      "cell_type": "code",
      "metadata": {
        "id": "FIleuCAjoFD8",
        "outputId": "d98a58c4-24d3-4d88-b469-04fe265fe493"
      },
      "source": [
        "tf.__version__"
      ],
      "execution_count": null,
      "outputs": [
        {
          "data": {
            "text/plain": [
              "'2.6.0'"
            ]
          },
          "execution_count": 2,
          "metadata": {},
          "output_type": "execute_result"
        }
      ]
    },
    {
      "cell_type": "markdown",
      "metadata": {
        "id": "oxQxCBWyoGPE"
      },
      "source": [
        "## Part 1 - Data Preprocessing"
      ]
    },
    {
      "cell_type": "markdown",
      "metadata": {
        "id": "MvE-heJNo3GG"
      },
      "source": [
        "### Preprocessing the Training set"
      ]
    },
    {
      "cell_type": "code",
      "metadata": {
        "id": "0koUcJMJpEBD",
        "outputId": "fad8a218-9e70-4738-a96d-21e89c26e061"
      },
      "source": [
        "train_datagen = ImageDataGenerator(rescale = 1./255,\n",
        "                                   shear_range = 0.2,\n",
        "                                   zoom_range = 0.2,\n",
        "                                   horizontal_flip = True)\n",
        "training_set = train_datagen.flow_from_directory('dataset/training_set',\n",
        "                                                 target_size = (64, 64),\n",
        "                                                 batch_size = 32,\n",
        "                                                 class_mode = 'binary')"
      ],
      "execution_count": null,
      "outputs": [
        {
          "name": "stdout",
          "output_type": "stream",
          "text": [
            "Found 8000 images belonging to 2 classes.\n"
          ]
        }
      ]
    },
    {
      "cell_type": "markdown",
      "metadata": {
        "id": "7yvZtx7gZoX3"
      },
      "source": [
        "Much like a fit transform for the training set and just fit, for the test set."
      ]
    },
    {
      "cell_type": "markdown",
      "metadata": {
        "id": "mrCMmGw9pHys"
      },
      "source": [
        "### Preprocessing the Test set"
      ]
    },
    {
      "cell_type": "code",
      "metadata": {
        "id": "SH4WzfOhpKc3",
        "outputId": "71f80deb-92bc-4613-f934-d48dab148694"
      },
      "source": [
        "test_datagen = ImageDataGenerator(rescale = 1./255)\n",
        "test_set = test_datagen.flow_from_directory('dataset/test_set',\n",
        "                                            target_size = (64, 64),\n",
        "                                            batch_size = 32,\n",
        "                                            class_mode = 'binary')"
      ],
      "execution_count": null,
      "outputs": [
        {
          "name": "stdout",
          "output_type": "stream",
          "text": [
            "Found 2000 images belonging to 2 classes.\n"
          ]
        }
      ]
    },
    {
      "cell_type": "markdown",
      "metadata": {
        "id": "af8O4l90gk7B"
      },
      "source": [
        "## Part 2 - Building the CNN"
      ]
    },
    {
      "cell_type": "markdown",
      "metadata": {
        "id": "ces1gXY2lmoX"
      },
      "source": [
        "### Initialising the CNN"
      ]
    },
    {
      "cell_type": "code",
      "metadata": {
        "id": "SAUt4UMPlhLS"
      },
      "source": [
        "cnn = tf.keras.models.Sequential()"
      ],
      "execution_count": null,
      "outputs": []
    },
    {
      "cell_type": "markdown",
      "metadata": {
        "id": "u5YJj_XMl5LF"
      },
      "source": [
        "### Step 1 - Convolution"
      ]
    },
    {
      "cell_type": "code",
      "metadata": {
        "id": "XPzPrMckl-hV"
      },
      "source": [
        "cnn.add(tf.keras.layers.Conv2D(filters=32, kernel_size=3, activation='relu', input_shape=[64, 64, 3]))"
      ],
      "execution_count": null,
      "outputs": []
    },
    {
      "cell_type": "markdown",
      "metadata": {
        "id": "tf87FpvxmNOJ"
      },
      "source": [
        "### Step 2 - Pooling"
      ]
    },
    {
      "cell_type": "code",
      "metadata": {
        "id": "ncpqPl69mOac"
      },
      "source": [
        "cnn.add(tf.keras.layers.MaxPool2D(pool_size=2, strides=2))"
      ],
      "execution_count": null,
      "outputs": []
    },
    {
      "cell_type": "markdown",
      "metadata": {
        "id": "xaTOgD8rm4mU"
      },
      "source": [
        "### Adding a second convolutional layer"
      ]
    },
    {
      "cell_type": "code",
      "metadata": {
        "id": "i_-FZjn_m8gk"
      },
      "source": [
        "cnn.add(tf.keras.layers.Conv2D(filters=32, kernel_size=3, activation='relu'))\n",
        "cnn.add(tf.keras.layers.MaxPool2D(pool_size=2, strides=2))"
      ],
      "execution_count": null,
      "outputs": []
    },
    {
      "cell_type": "markdown",
      "metadata": {
        "id": "tmiEuvTunKfk"
      },
      "source": [
        "### Step 3 - Flattening"
      ]
    },
    {
      "cell_type": "code",
      "metadata": {
        "id": "6AZeOGCvnNZn"
      },
      "source": [
        "cnn.add(tf.keras.layers.Flatten())"
      ],
      "execution_count": null,
      "outputs": []
    },
    {
      "cell_type": "markdown",
      "metadata": {
        "id": "dAoSECOm203v"
      },
      "source": [
        "### Step 4 - Full Connection"
      ]
    },
    {
      "cell_type": "code",
      "metadata": {
        "id": "8GtmUlLd26Nq"
      },
      "source": [
        "cnn.add(tf.keras.layers.Dense(units=128, activation='relu'))"
      ],
      "execution_count": null,
      "outputs": []
    },
    {
      "cell_type": "markdown",
      "metadata": {
        "id": "yTldFvbX28Na"
      },
      "source": [
        "### Step 5 - Output Layer"
      ]
    },
    {
      "cell_type": "code",
      "metadata": {
        "id": "1p_Zj1Mc3Ko_"
      },
      "source": [
        "cnn.add(tf.keras.layers.Dense(units=1, activation='sigmoid'))"
      ],
      "execution_count": null,
      "outputs": []
    },
    {
      "cell_type": "markdown",
      "metadata": {
        "id": "QPZA-5j7ZoX-"
      },
      "source": [
        "Softmax for non-binary op."
      ]
    },
    {
      "cell_type": "markdown",
      "metadata": {
        "id": "D6XkI90snSDl"
      },
      "source": [
        "## Part 3 - Training the CNN"
      ]
    },
    {
      "cell_type": "markdown",
      "metadata": {
        "id": "vfrFQACEnc6i"
      },
      "source": [
        "### Compiling the CNN"
      ]
    },
    {
      "cell_type": "code",
      "metadata": {
        "id": "NALksrNQpUlJ"
      },
      "source": [
        "cnn.compile(optimizer = 'adam', loss = 'binary_crossentropy', metrics = ['accuracy'])"
      ],
      "execution_count": null,
      "outputs": []
    },
    {
      "cell_type": "markdown",
      "metadata": {
        "id": "ehS-v3MIpX2h"
      },
      "source": [
        "### Training the CNN on the Training set and evaluating it on the Test set"
      ]
    },
    {
      "cell_type": "code",
      "metadata": {
        "id": "XUj1W4PJptta",
        "outputId": "830b5145-063e-4df7-e85a-fccaed78c4c2"
      },
      "source": [
        "cnn.fit(x = training_set, validation_data = test_set, epochs = 25)"
      ],
      "execution_count": null,
      "outputs": [
        {
          "name": "stdout",
          "output_type": "stream",
          "text": [
            "Epoch 1/25\n",
            "250/250 [==============================] - 102s 399ms/step - loss: 0.6592 - accuracy: 0.6075 - val_loss: 0.6525 - val_accuracy: 0.6220\n",
            "Epoch 2/25\n",
            "250/250 [==============================] - 99s 396ms/step - loss: 0.5920 - accuracy: 0.6839 - val_loss: 0.5620 - val_accuracy: 0.7155\n",
            "Epoch 3/25\n",
            "250/250 [==============================] - 105s 418ms/step - loss: 0.5491 - accuracy: 0.7178 - val_loss: 0.5179 - val_accuracy: 0.7450\n",
            "Epoch 4/25\n",
            "250/250 [==============================] - 101s 404ms/step - loss: 0.5158 - accuracy: 0.7462 - val_loss: 0.4988 - val_accuracy: 0.7595\n",
            "Epoch 5/25\n",
            "250/250 [==============================] - 97s 386ms/step - loss: 0.4863 - accuracy: 0.7653 - val_loss: 0.5493 - val_accuracy: 0.7435\n",
            "Epoch 6/25\n",
            "250/250 [==============================] - 78s 311ms/step - loss: 0.4712 - accuracy: 0.7721 - val_loss: 0.4679 - val_accuracy: 0.7775\n",
            "Epoch 7/25\n",
            "250/250 [==============================] - 58s 233ms/step - loss: 0.4463 - accuracy: 0.7926 - val_loss: 0.4794 - val_accuracy: 0.7725\n",
            "Epoch 8/25\n",
            "250/250 [==============================] - 56s 225ms/step - loss: 0.4314 - accuracy: 0.7970 - val_loss: 0.4698 - val_accuracy: 0.7785\n",
            "Epoch 9/25\n",
            "250/250 [==============================] - 57s 229ms/step - loss: 0.4246 - accuracy: 0.8058 - val_loss: 0.4836 - val_accuracy: 0.7775\n",
            "Epoch 10/25\n",
            "250/250 [==============================] - 57s 226ms/step - loss: 0.4078 - accuracy: 0.8127 - val_loss: 0.4545 - val_accuracy: 0.8065\n",
            "Epoch 11/25\n",
            "250/250 [==============================] - 56s 224ms/step - loss: 0.3997 - accuracy: 0.8151 - val_loss: 0.4785 - val_accuracy: 0.7790\n",
            "Epoch 12/25\n",
            "250/250 [==============================] - 54s 214ms/step - loss: 0.3767 - accuracy: 0.8316 - val_loss: 0.4583 - val_accuracy: 0.8060\n",
            "Epoch 13/25\n",
            "250/250 [==============================] - 56s 223ms/step - loss: 0.3719 - accuracy: 0.8344 - val_loss: 0.4649 - val_accuracy: 0.7930\n",
            "Epoch 14/25\n",
            "250/250 [==============================] - 56s 224ms/step - loss: 0.3603 - accuracy: 0.8388 - val_loss: 0.4629 - val_accuracy: 0.7900\n",
            "Epoch 15/25\n",
            "250/250 [==============================] - 56s 225ms/step - loss: 0.3389 - accuracy: 0.8550 - val_loss: 0.4315 - val_accuracy: 0.8130\n",
            "Epoch 16/25\n",
            "250/250 [==============================] - 55s 222ms/step - loss: 0.3331 - accuracy: 0.8536 - val_loss: 0.4842 - val_accuracy: 0.7860\n",
            "Epoch 17/25\n",
            "250/250 [==============================] - 57s 228ms/step - loss: 0.3157 - accuracy: 0.8626 - val_loss: 0.4500 - val_accuracy: 0.8010\n",
            "Epoch 18/25\n",
            "250/250 [==============================] - 56s 225ms/step - loss: 0.3024 - accuracy: 0.8721 - val_loss: 0.4926 - val_accuracy: 0.7980\n",
            "Epoch 19/25\n",
            "250/250 [==============================] - 2361s 9s/step - loss: 0.2818 - accuracy: 0.8813 - val_loss: 0.4880 - val_accuracy: 0.8070\n",
            "Epoch 20/25\n",
            "250/250 [==============================] - 1654s 7s/step - loss: 0.2761 - accuracy: 0.8824 - val_loss: 0.4665 - val_accuracy: 0.8080\n",
            "Epoch 21/25\n",
            "250/250 [==============================] - 1780s 7s/step - loss: 0.2666 - accuracy: 0.8878 - val_loss: 0.5143 - val_accuracy: 0.7870\n",
            "Epoch 22/25\n",
            "250/250 [==============================] - 1316s 5s/step - loss: 0.2625 - accuracy: 0.8906 - val_loss: 0.5476 - val_accuracy: 0.7970\n",
            "Epoch 23/25\n",
            "250/250 [==============================] - 1790s 7s/step - loss: 0.2571 - accuracy: 0.8956 - val_loss: 0.4855 - val_accuracy: 0.8105\n",
            "Epoch 24/25\n",
            "250/250 [==============================] - 1511s 6s/step - loss: 0.2326 - accuracy: 0.9028 - val_loss: 0.5496 - val_accuracy: 0.8025\n",
            "Epoch 25/25\n",
            "250/250 [==============================] - 1515s 6s/step - loss: 0.2371 - accuracy: 0.9005 - val_loss: 0.5336 - val_accuracy: 0.7960\n"
          ]
        },
        {
          "data": {
            "text/plain": [
              "<keras.callbacks.History at 0x7fd850661a30>"
            ]
          },
          "execution_count": 13,
          "metadata": {},
          "output_type": "execute_result"
        }
      ]
    },
    {
      "cell_type": "markdown",
      "metadata": {
        "id": "RafiGroWZoYA"
      },
      "source": [
        "Starting from 10, 12, 15, 20, 25."
      ]
    },
    {
      "cell_type": "markdown",
      "metadata": {
        "id": "U3PZasO0006Z"
      },
      "source": [
        "## Part 4 - Making a single prediction"
      ]
    },
    {
      "cell_type": "code",
      "metadata": {
        "id": "gsSiWEJY1BPB"
      },
      "source": [
        "import numpy as np\n",
        "from keras.preprocessing import image\n",
        "test_image = image.load_img('dataset/single_prediction/cat_or_dog_1.jpg', target_size = (64, 64))\n",
        "test_image = image.img_to_array(test_image)\n",
        "test_image = np.expand_dims(test_image, axis = 0)\n",
        "result = cnn.predict(test_image)\n",
        "training_set.class_indices\n",
        "if result[0][0] == 1:\n",
        "  prediction = 'dog'\n",
        "else:\n",
        "  prediction = 'cat'"
      ],
      "execution_count": null,
      "outputs": []
    },
    {
      "cell_type": "code",
      "metadata": {
        "id": "ED9KB3I54c1i",
        "outputId": "54a245d3-b554-43e6-e582-5d87d86bdd80"
      },
      "source": [
        "print(prediction)"
      ],
      "execution_count": null,
      "outputs": [
        {
          "name": "stdout",
          "output_type": "stream",
          "text": [
            "dog\n"
          ]
        }
      ]
    },
    {
      "cell_type": "code",
      "metadata": {
        "id": "e3nM6ncDZoYB",
        "outputId": "2c903717-1a22-4b35-c8b8-771918f7c8b9"
      },
      "source": [
        "test_image = image.load_img('dataset/single_prediction/cat_or_dog_2.jpg', target_size = (64, 64))\n",
        "test_image = image.img_to_array(test_image)\n",
        "test_image = np.expand_dims(test_image, axis = 0)\n",
        "result = cnn.predict(test_image)\n",
        "training_set.class_indices\n",
        "if result[0][0] == 1:\n",
        "  prediction = 'dog'\n",
        "else:\n",
        "  prediction = 'cat'\n",
        "\n",
        "print(prediction)"
      ],
      "execution_count": null,
      "outputs": [
        {
          "name": "stdout",
          "output_type": "stream",
          "text": [
            "cat\n"
          ]
        }
      ]
    },
    {
      "cell_type": "markdown",
      "metadata": {
        "id": "y-iCNc-uZ7j9"
      },
      "source": [
        "So, the model performs pretty well on the test set as well as the single pictures shown to the model outside of the train, test set.\n",
        "Thus, completing our short simple Cat-Dog Classification CNN."
      ]
    },
    {
      "cell_type": "code",
      "metadata": {
        "id": "1y2yYHg0Z8R-"
      },
      "source": [
        ""
      ],
      "execution_count": null,
      "outputs": []
    }
  ]
}